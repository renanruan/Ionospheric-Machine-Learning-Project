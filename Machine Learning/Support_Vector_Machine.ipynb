{
  "cells": [
    {
      "cell_type": "code",
      "execution_count": 1,
      "metadata": {
        "id": "YvOa3-N1QgFD"
      },
      "outputs": [],
      "source": [
        "# FAZENDO IMPORTS\n",
        "\n",
        "import numpy as np\n",
        "import pandas as pd\n",
        "from sklearn.model_selection import train_test_split\n",
        "from sklearn.svm import SVC\n",
        "from sklearn.metrics import accuracy_score, classification_report, confusion_matrix\n",
        "from sklearn.model_selection import StratifiedKFold\n",
        "from sklearn.model_selection import cross_val_score\n",
        "from sklearn.model_selection import cross_val_predict\n",
        "from imblearn.over_sampling import RandomOverSampler\n",
        "from imblearn.pipeline import make_pipeline\n",
        "from google.colab import drive"
      ]
    },
    {
      "cell_type": "code",
      "execution_count": 2,
      "metadata": {
        "id": "VnUQEQ9XQ9u5"
      },
      "outputs": [],
      "source": [
        "#  CARREGANDO BASE DE DADOS\n",
        "\n",
        "#drive.mount('/content/drive')\n",
        "#data = pd.read_csv('/content/drive/MyDrive/Machine Learning Project/Classification/Final_Grads_SJCU.csv')\n"
      ]
    },
    {
      "cell_type": "code",
      "execution_count": 3,
      "metadata": {
        "id": "MDF6yMPyVHy7"
      },
      "outputs": [],
      "source": [
        "#   CONTROLE DE ALEATORIEDADE\n",
        "\n",
        "seed = 42\n",
        "np.random.seed(seed)"
      ]
    },
    {
      "cell_type": "code",
      "source": [
        "#  GERANDO UM MOCK DATASET\n",
        "# ok\n",
        "\n",
        "num_samples=100\n",
        "\n",
        "# Generate random features (float normalized between 0 and 1)\n",
        "features = np.random.rand(num_samples, 3)\n",
        "\n",
        "# Calculate the binary classification based on the last values of the features\n",
        "HANS = np.zeros(num_samples)\n",
        "for i in range(num_samples):\n",
        "    # Example binary classification rule: if the sum of the last two values of feature1 is greater than 1, classify as 1, else 0\n",
        "    if features[i, 0] + features[i-1, 0] - features[i, 1] - features[i-1, 1] + features[i, 2] + features[i-1, 2] > 1:\n",
        "        HANS[i] = 1\n",
        "\n",
        "# Create DataFrame\n",
        "data = pd.DataFrame(features, columns=['feature1', 'feature2', 'feature3'])\n",
        "\n",
        "# Add binary classification column\n",
        "data['HANS'] = HANS.astype(int)\n"
      ],
      "metadata": {
        "id": "Fyc93oFcLoug"
      },
      "execution_count": 4,
      "outputs": []
    },
    {
      "cell_type": "code",
      "execution_count": 5,
      "metadata": {
        "id": "fR_JIs8hUBfY"
      },
      "outputs": [],
      "source": [
        "#  SEPARAÇÃO DOS DADOS\n",
        "\n",
        "data.head()\n",
        "\n",
        "data_features = data.drop('HANS', axis=1)\n",
        "data_target = data['HANS']"
      ]
    },
    {
      "cell_type": "code",
      "execution_count": 6,
      "metadata": {
        "colab": {
          "base_uri": "https://localhost:8080/"
        },
        "id": "gBVAHgl_Wine",
        "outputId": "04bd3aa9-cbe1-47f3-d49c-2cc5af4bfc5d"
      },
      "outputs": [
        {
          "output_type": "stream",
          "name": "stdout",
          "text": [
            "Direct training\n",
            "Accuracy:\n",
            "0.75\n",
            "Classification Report:\n",
            "              precision    recall  f1-score   support\n",
            "\n",
            "           0       1.00      0.55      0.71        11\n",
            "           1       0.64      1.00      0.78         9\n",
            "\n",
            "    accuracy                           0.75        20\n",
            "   macro avg       0.82      0.77      0.74        20\n",
            "weighted avg       0.84      0.75      0.74        20\n",
            "\n",
            "Confusion Matrix:\n",
            "[[6 5]\n",
            " [0 9]]\n"
          ]
        }
      ],
      "source": [
        "#   TREINAMENTO - PREDIÇÃO - MÉTRICAS\n",
        "#   Utilizando um unico fold com tamanho de treinamento 80% e teste 20%\n",
        "\n",
        "print('Direct training')\n",
        "\n",
        "model = SVC(kernel='linear',  class_weight='balanced',random_state=seed)  # You can choose other kernels like 'rbf', 'poly', etc.\n",
        "#model = SVC(kernel='linear',  random_state=seed)  # You can choose other kernels like 'rbf', 'poly', etc.\n",
        "\n",
        "X_train, X_test, y_train, y_test = train_test_split(data_features, data_target, test_size=0.2, random_state=seed)\n",
        "\n",
        "model.fit(X_train, y_train)\n",
        "pred_target = model.predict(X_test)\n",
        "\n",
        "# Calculate the accuracy\n",
        "print('Accuracy:')\n",
        "print(accuracy_score(y_test, pred_target))\n",
        "\n",
        "# Generate a classification report\n",
        "print('Classification Report:')\n",
        "print(classification_report(y_test, pred_target))\n",
        "\n",
        "# Generate a confusion matrix\n",
        "print('Confusion Matrix:')\n",
        "print(confusion_matrix(y_test, pred_target))"
      ]
    },
    {
      "cell_type": "code",
      "execution_count": 7,
      "metadata": {
        "colab": {
          "base_uri": "https://localhost:8080/"
        },
        "id": "9ubQNi2LsUHU",
        "outputId": "94c2bfd6-99cc-46cc-ca9e-0257494779c1"
      },
      "outputs": [
        {
          "output_type": "stream",
          "name": "stdout",
          "text": [
            "5-fold Stratified Cross Validation\n",
            "Confusion Matrix Fold 1:\n",
            "[[8 3]\n",
            " [3 6]]\n",
            "Confusion Matrix Fold 2:\n",
            "[[7 4]\n",
            " [0 9]]\n",
            "Confusion Matrix Fold 3:\n",
            "[[7 3]\n",
            " [3 7]]\n",
            "Confusion Matrix Fold 4:\n",
            "[[7 3]\n",
            " [1 9]]\n",
            "Confusion Matrix Fold 5:\n",
            "[[ 9  1]\n",
            " [ 0 10]]\n",
            "Accuracy:\n",
            "0.79\n",
            "Classification Report:\n",
            "              precision    recall  f1-score   support\n",
            "\n",
            "           0       0.84      0.73      0.78        52\n",
            "           1       0.75      0.85      0.80        48\n",
            "\n",
            "    accuracy                           0.79       100\n",
            "   macro avg       0.79      0.79      0.79       100\n",
            "weighted avg       0.80      0.79      0.79       100\n",
            "\n",
            "Confusion Matrix Total:\n",
            "[[38 14]\n",
            " [ 7 41]]\n"
          ]
        }
      ],
      "source": [
        "#   TREINAMENTO - PREDIÇÃO - MÉTRICAS\n",
        "#   Utilizando um 5 fold com tamanho de treinamento 80% e teste 20% com distribuição uniforme de classes entre os folds\n",
        "\n",
        "print('5-fold Stratified Cross Validation')\n",
        "\n",
        "model = SVC(kernel='linear',  class_weight='balanced',random_state=seed)  # You can choose other kernels like 'rbf', 'poly', etc.\n",
        "#model = SVC(kernel='linear',  random_state=seed)  # You can choose other kernels like 'rbf', 'poly', etc.\n",
        "\n",
        "# Perform stratified 5-fold cross-validation\n",
        "skf = StratifiedKFold(n_splits=5, shuffle=True, random_state=seed)\n",
        "\n",
        "# Initialize lists to store true and predicted labels\n",
        "true_labels = []\n",
        "predicted_labels = []\n",
        "fold = 0\n",
        "\n",
        "# Loop over the folds\n",
        "for train_index, test_index in skf.split(data_features, data_target):\n",
        "    # Split the data into train and test sets\n",
        "    X_train, X_test = data_features.iloc[train_index], data_features.iloc[test_index]\n",
        "    y_train, y_test = data_target.iloc[train_index], data_target.iloc[test_index]\n",
        "\n",
        "    # Fit the pipeline on the training data and predict on the test data\n",
        "    model.fit(X_train, y_train)\n",
        "    y_pred = model.predict(X_test)\n",
        "\n",
        "    # Append true and predicted labels for this fold\n",
        "    true_labels.extend(y_test)\n",
        "    predicted_labels.extend(y_pred)\n",
        "\n",
        "    fold = fold + 1\n",
        "    print(f\"Confusion Matrix Fold {fold}:\")\n",
        "    print(confusion_matrix(y_test, y_pred))\n",
        "\n",
        "# Calculate the accuracy\n",
        "print('Accuracy:')\n",
        "print(accuracy_score(true_labels, predicted_labels))\n",
        "\n",
        "# Generate a classification report\n",
        "print('Classification Report:')\n",
        "print(classification_report(true_labels, predicted_labels))\n",
        "\n",
        "# Print the cross-validation confusion matrix\n",
        "print(\"Confusion Matrix Total:\")\n",
        "print(confusion_matrix(true_labels, predicted_labels))"
      ]
    },
    {
      "cell_type": "code",
      "source": [
        "#   TREINAMENTO - PREDIÇÃO - MÉTRICAS\n",
        "#   Utilizando um 5 fold com tamanho de treinamento 80% e teste 20% com distribuição uniforme de classes entre os folds usando OverSample para balancear\n",
        "\n",
        "print('5-fold Stratified Cross Validation')\n",
        "\n",
        "model = SVC(kernel='linear',  class_weight='balanced',random_state=seed)  # You can choose other kernels like 'rbf', 'poly', etc.\n",
        "#model = SVC(kernel='linear',  random_state=seed)  # You can choose other kernels like 'rbf', 'poly', etc.\n",
        "\n",
        "# Perform balance with oversampler\n",
        "oversampler = RandomOverSampler(sampling_strategy=1)\n",
        "\n",
        "# Creates Pipeline\n",
        "pipeline = make_pipeline(oversampler, model)\n",
        "\n",
        "# Perform stratified 5-fold cross-validation\n",
        "skf = StratifiedKFold(n_splits=5, shuffle=True, random_state=seed)\n",
        "\n",
        "# Initialize lists to store true and predicted labels\n",
        "true_labels = []\n",
        "predicted_labels = []\n",
        "fold = 0\n",
        "\n",
        "# Loop over the folds\n",
        "for train_index, test_index in skf.split(data_features, data_target):\n",
        "    # Split the data into train and test sets\n",
        "    X_train, X_test = data_features.iloc[train_index], data_features.iloc[test_index]\n",
        "    y_train, y_test = data_target.iloc[train_index], data_target.iloc[test_index]\n",
        "\n",
        "    # Fit the pipeline on the training data and predict on the test data\n",
        "    pipeline.fit(X_train, y_train)\n",
        "    y_pred = pipeline.predict(X_test)\n",
        "\n",
        "    # Append true and predicted labels for this fold\n",
        "    true_labels.extend(y_test)\n",
        "    predicted_labels.extend(y_pred)\n",
        "\n",
        "    fold = fold + 1\n",
        "    print(f\"Confusion Matrix Fold {fold}:\")\n",
        "    print(confusion_matrix(y_test, y_pred))\n",
        "\n",
        "# Calculate the accuracy\n",
        "print('Accuracy:')\n",
        "print(accuracy_score(true_labels, predicted_labels))\n",
        "\n",
        "# Generate a classification report\n",
        "print('Classification Report:')\n",
        "print(classification_report(true_labels, predicted_labels))\n",
        "\n",
        "# Print the cross-validation confusion matrix\n",
        "print(\"Confusion Matrix Total:\")\n",
        "print(confusion_matrix(true_labels, predicted_labels))"
      ],
      "metadata": {
        "colab": {
          "base_uri": "https://localhost:8080/"
        },
        "id": "Aq7-g77_8BO0",
        "outputId": "8bc14a96-de0a-4675-f6cd-af8268debf46"
      },
      "execution_count": 12,
      "outputs": [
        {
          "output_type": "stream",
          "name": "stdout",
          "text": [
            "5-fold Stratified Cross Validation\n",
            "Confusion Matrix Fold 1:\n",
            "[[8 3]\n",
            " [3 6]]\n",
            "Confusion Matrix Fold 2:\n",
            "[[7 4]\n",
            " [0 9]]\n",
            "Confusion Matrix Fold 3:\n",
            "[[7 3]\n",
            " [3 7]]\n",
            "Confusion Matrix Fold 4:\n",
            "[[7 3]\n",
            " [1 9]]\n",
            "Confusion Matrix Fold 5:\n",
            "[[9 1]\n",
            " [1 9]]\n",
            "Accuracy:\n",
            "0.78\n",
            "Classification Report:\n",
            "              precision    recall  f1-score   support\n",
            "\n",
            "           0       0.83      0.73      0.78        52\n",
            "           1       0.74      0.83      0.78        48\n",
            "\n",
            "    accuracy                           0.78       100\n",
            "   macro avg       0.78      0.78      0.78       100\n",
            "weighted avg       0.79      0.78      0.78       100\n",
            "\n",
            "Confusion Matrix Total:\n",
            "[[38 14]\n",
            " [ 8 40]]\n"
          ]
        }
      ]
    }
  ],
  "metadata": {
    "colab": {
      "provenance": []
    },
    "kernelspec": {
      "display_name": "Python 3",
      "name": "python3"
    },
    "language_info": {
      "name": "python"
    }
  },
  "nbformat": 4,
  "nbformat_minor": 0
}